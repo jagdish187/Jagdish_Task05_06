{
 "cells": [
  {
   "cell_type": "markdown",
   "id": "5dea16c6",
   "metadata": {},
   "source": [
    "Task 06 Question 03\n"
   ]
  },
  {
   "cell_type": "code",
   "execution_count": 2,
   "id": "57d99d3e",
   "metadata": {},
   "outputs": [
    {
     "name": "stdout",
     "output_type": "stream",
     "text": [
      "Saved 100 rows to fake_jobs.csv\n"
     ]
    }
   ],
   "source": [
    "import csv\n",
    "from urllib.parse import urljoin\n",
    "\n",
    "import requests\n",
    "from bs4 import BeautifulSoup\n",
    "from requests.adapters import HTTPAdapter\n",
    "from urllib3.util.retry import Retry\n",
    "\n",
    "BASE_URL = \"https://realpython.github.io/fake-jobs/\"\n",
    "\n",
    "headers = {\n",
    "    # Pretend to be a browser to avoid basic bot blocks\n",
    "    \"User-Agent\": (\n",
    "        \"Mozilla/5.0 (Windows NT 10.0; Win64; x64) \"\n",
    "        \"AppleWebKit/537.36 (KHTML, like Gecko) \"\n",
    "        \"Chrome/120.0.0.0 Safari/537.36\"\n",
    "    )\n",
    "}\n",
    "\n",
    "# Session with retries for transient HTTP issues\n",
    "session = requests.Session()\n",
    "retry = Retry(\n",
    "    total=3,\n",
    "    backoff_factor=0.5,\n",
    "    status_forcelist=[429, 500, 502, 503, 504],\n",
    "    allowed_methods=[\"GET\"],\n",
    ")\n",
    "session.mount(\"https://\", HTTPAdapter(max_retries=retry))\n",
    "session.headers.update(headers)\n",
    "\n",
    "jobs = []\n",
    "url = BASE_URL\n",
    "pages_crawled = 0\n",
    "max_pages = 3\n",
    "\n",
    "while url and pages_crawled < max_pages:\n",
    "    try:\n",
    "        resp = session.get(url, timeout=15)\n",
    "        resp.raise_for_status()\n",
    "    except requests.HTTPError as e:\n",
    "        # e.response can be None; be defensive\n",
    "        code = getattr(e.response, \"status_code\", \"unknown\")\n",
    "        reason = getattr(e.response, \"reason\", \"\")\n",
    "        print(f\"HTTP error {code} {reason} at {url}\")\n",
    "        break\n",
    "    except requests.RequestException as e:\n",
    "        print(f\"Request error at {url}: {e}\")\n",
    "        break\n",
    "\n",
    "    soup = BeautifulSoup(resp.text, \"html.parser\")\n",
    "\n",
    "    # Parse each job card\n",
    "    for card in soup.select(\"div.card-content\"):\n",
    "        title = card.select_one(\"h2.title\")\n",
    "        company = card.select_one(\"h3.company\")\n",
    "        location = card.select_one(\"p.location\")\n",
    "        if title and company and location:\n",
    "            jobs.append(\n",
    "                {\n",
    "                    \"title\": title.get_text(strip=True),\n",
    "                    \"company\": company.get_text(strip=True),\n",
    "                    \"location\": location.get_text(strip=True),\n",
    "                }\n",
    "            )\n",
    "\n",
    "    # Follow pagination: li.next > a\n",
    "    next_link = soup.select_one(\"li.next > a\")\n",
    "    url = urljoin(url, next_link[\"href\"]) if next_link and next_link.has_attr(\"href\") else None\n",
    "    pages_crawled += 1\n",
    "\n",
    "# Save to CSV\n",
    "csv_path = \"fake_jobs.csv\"\n",
    "with open(csv_path, \"w\", newline=\"\", encoding=\"utf-8\") as f:\n",
    "    writer = csv.DictWriter(f, fieldnames=[\"title\", \"company\", \"location\"])\n",
    "    writer.writeheader()\n",
    "    writer.writerows(jobs)\n",
    "\n",
    "print(f\"Saved {len(jobs)} rows to {csv_path}\")\n",
    "\n"
   ]
  }
 ],
 "metadata": {
  "kernelspec": {
   "display_name": "Python 3",
   "language": "python",
   "name": "python3"
  },
  "language_info": {
   "codemirror_mode": {
    "name": "ipython",
    "version": 3
   },
   "file_extension": ".py",
   "mimetype": "text/x-python",
   "name": "python",
   "nbconvert_exporter": "python",
   "pygments_lexer": "ipython3",
   "version": "3.13.1"
  }
 },
 "nbformat": 4,
 "nbformat_minor": 5
}
