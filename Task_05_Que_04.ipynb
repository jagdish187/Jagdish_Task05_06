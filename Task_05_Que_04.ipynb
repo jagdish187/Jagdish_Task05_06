{
 "cells": [
  {
   "cell_type": "markdown",
   "id": "65e43604",
   "metadata": {},
   "source": [
    "Task 05 Question 04\n"
   ]
  },
  {
   "cell_type": "code",
   "execution_count": null,
   "id": "900b4089",
   "metadata": {},
   "outputs": [],
   "source": [
    "import matplotlib.pyplot as plt\n",
    "import numpy as np\n",
    "\n",
    "x = np.linspace(0, 2*np.pi, 100)\n",
    "y1 = np.sin(x)\n",
    "y2 = np.cos(x)\n",
    "y3 = np.exp(x/3)\n",
    "\n",
    "plt.plot(x, y1, color='red', linestyle='-', label='sin(x)')\n",
    "plt.plot(x, y2, color='blue', linestyle='--', label='cos(x)')\n",
    "plt.plot(x, y3, color='green', linestyle=':', label='exp(x/3)')\n",
    "\n",
    "plt.xlabel(\"X-axis\")\n",
    "plt.ylabel(\"Y-axis\")\n",
    "plt.title(\"Multiple Lines in One Plot\")\n",
    "plt.legend()\n",
    "plt.grid(True)\n",
    "plt.show()\n"
   ]
  }
 ],
 "metadata": {
  "language_info": {
   "name": "python"
  }
 },
 "nbformat": 4,
 "nbformat_minor": 5
}
