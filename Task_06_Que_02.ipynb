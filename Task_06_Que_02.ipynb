{
 "cells": [
  {
   "cell_type": "markdown",
   "id": "fa936bd2",
   "metadata": {},
   "source": [
    "Task 06 Question 02"
   ]
  },
  {
   "cell_type": "code",
   "execution_count": 1,
   "id": "c61dde9f",
   "metadata": {},
   "outputs": [
    {
     "name": "stdout",
     "output_type": "stream",
     "text": [
      "       City    Description Temperature\n",
      "0    Mumbai           Haze       +28°C\n",
      "1     Delhi           Mist       +29°C\n",
      "2    London  Partly cloudy       +18°C\n",
      "3  New York           Mist       +25°C\n",
      "4     Tokyo  Partly cloudy       +29°C\n"
     ]
    }
   ],
   "source": [
    "import requests\n",
    "import pandas as pd\n",
    "\n",
    "cities = [\"Mumbai\", \"Delhi\", \"London\", \"New York\", \"Tokyo\"]\n",
    "weather_data = []\n",
    "\n",
    "for city in cities:\n",
    "    url = f\"https://wttr.in/{city}?format=%C+%t\"\n",
    "    response = requests.get(url)\n",
    "    if response.status_code == 200:\n",
    "        data = response.text.strip()\n",
    "        parts = data.split()\n",
    "        description = \" \".join(parts[:-1])\n",
    "        temperature = parts[-1]\n",
    "        weather_data.append({\"City\": city, \"Description\": description, \"Temperature\": temperature})\n",
    "    else:\n",
    "        weather_data.append({\"City\": city, \"Description\": \"N/A\", \"Temperature\": \"N/A\"})\n",
    "\n",
    "df = pd.DataFrame(weather_data)\n",
    "print(df)\n"
   ]
  }
 ],
 "metadata": {
  "kernelspec": {
   "display_name": "Python 3",
   "language": "python",
   "name": "python3"
  },
  "language_info": {
   "codemirror_mode": {
    "name": "ipython",
    "version": 3
   },
   "file_extension": ".py",
   "mimetype": "text/x-python",
   "name": "python",
   "nbconvert_exporter": "python",
   "pygments_lexer": "ipython3",
   "version": "3.13.1"
  }
 },
 "nbformat": 4,
 "nbformat_minor": 5
}
