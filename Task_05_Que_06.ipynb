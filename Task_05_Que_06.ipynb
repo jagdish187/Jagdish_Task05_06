{
 "cells": [
  {
   "cell_type": "markdown",
   "id": "ef9f7915",
   "metadata": {},
   "source": [
    "Task 05 Question 06"
   ]
  },
  {
   "cell_type": "code",
   "execution_count": null,
   "id": "b8182942",
   "metadata": {},
   "outputs": [],
   "source": [
    "import matplotlib.pyplot as plt\n",
    "import numpy as np\n",
    "\n",
    "fig, axs = plt.subplots(2, 2, figsize=(10, 8))\n",
    "\n",
    "x = np.linspace(0, 10, 100)\n",
    "y = 3 * x + 2\n",
    "axs[0, 0].plot(x, y, color='blue')\n",
    "axs[0, 0].set_title(\"Line Plot\")\n",
    "\n",
    "categories = ['A', 'B', 'C', 'D']\n",
    "values = [5, 8, 3, 6]\n",
    "axs[0, 1].bar(categories, values, color='green')\n",
    "axs[0, 1].set_title(\"Bar Chart\")\n",
    "\n",
    "x_scatter = np.random.rand(50)\n",
    "y_scatter = np.random.rand(50)\n",
    "axs[1, 0].scatter(x_scatter, y_scatter, color='red')\n",
    "axs[1, 0].set_title(\"Scatter Plot\")\n",
    "\n",
    "data = np.random.randn(1000)\n",
    "axs[1, 1].hist(data, bins=20, color='orange', edgecolor='black')\n",
    "axs[1, 1].set_title(\"Histogram\")\n",
    "\n",
    "fig.suptitle(\"2x2 Grid of Subplots\", fontsize=16)\n",
    "plt.tight_layout()\n",
    "plt.show()\n"
   ]
  }
 ],
 "metadata": {
  "language_info": {
   "name": "python"
  }
 },
 "nbformat": 4,
 "nbformat_minor": 5
}
